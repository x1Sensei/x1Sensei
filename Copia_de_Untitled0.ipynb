{
  "nbformat": 4,
  "nbformat_minor": 0,
  "metadata": {
    "colab": {
      "provenance": [],
      "authorship_tag": "ABX9TyNFlm6TD7Z8IVhMksvQtH8f",
      "include_colab_link": true
    },
    "kernelspec": {
      "name": "python3",
      "display_name": "Python 3"
    },
    "language_info": {
      "name": "python"
    }
  },
  "cells": [
    {
      "cell_type": "markdown",
      "metadata": {
        "id": "view-in-github",
        "colab_type": "text"
      },
      "source": [
        "<a href=\"https://colab.research.google.com/github/x1Sensei/x1Sensei/blob/main/Copia_de_Untitled0.ipynb\" target=\"_parent\"><img src=\"https://colab.research.google.com/assets/colab-badge.svg\" alt=\"Open In Colab\"/></a>"
      ]
    },
    {
      "cell_type": "code",
      "execution_count": null,
      "metadata": {
        "colab": {
          "base_uri": "https://localhost:8080/"
        },
        "id": "4iOIbZ6P0U_Z",
        "outputId": "da4309e1-f723-4873-fdd1-27a3dd1196fc"
      },
      "outputs": [
        {
          "output_type": "stream",
          "name": "stdout",
          "text": [
            "Python 3.10.12\n"
          ]
        }
      ],
      "source": [
        "!python --version"
      ]
    },
    {
      "cell_type": "markdown",
      "source": [
        "tiposDeDatosBasicos"
      ],
      "metadata": {
        "id": "cQ18S9XV0qns"
      }
    },
    {
      "cell_type": "code",
      "source": [
        "sample1=10\n",
        "sample2=2.2\n",
        "sample3=\"Jimmy\"\n",
        "\n",
        "print(type(sample1))\n",
        "print(type (sample2))\n",
        "print(type (sample3))\n",
        "\n",
        "print(sample1+sample2)\n",
        "print(sample1+sample2)\n",
        "print(sample1**2)\n",
        "\n",
        "s1=True\n",
        "s2=False\n",
        "\n",
        "#print(s1 and s2)\n",
        "#print(s1 or s2)\n",
        "#print(not s1)\n",
        "#print(len(sample3))\n",
        "#print(sample3.upper())\n",
        "#print(sample3.lower())\n",
        "#print(sample3.capitalize())\n",
        "\n"
      ],
      "metadata": {
        "id": "YEeZyoPl0zDW",
        "colab": {
          "base_uri": "https://localhost:8080/"
        },
        "outputId": "e99a64a9-dd38-4d85-9c57-15c44e2c91fd"
      },
      "execution_count": null,
      "outputs": [
        {
          "output_type": "stream",
          "name": "stdout",
          "text": [
            "<class 'int'>\n",
            "<class 'float'>\n",
            "<class 'str'>\n",
            "12.2\n",
            "12.2\n",
            "100\n"
          ]
        }
      ]
    },
    {
      "cell_type": "markdown",
      "source": [],
      "metadata": {
        "id": "fzqvG2rNfzx9"
      }
    },
    {
      "cell_type": "markdown",
      "source": [],
      "metadata": {
        "id": "0MXU9ecsfa2w"
      }
    },
    {
      "cell_type": "code",
      "source": [],
      "metadata": {
        "id": "aULbLyEicr-D"
      },
      "execution_count": null,
      "outputs": []
    }
  ]
}