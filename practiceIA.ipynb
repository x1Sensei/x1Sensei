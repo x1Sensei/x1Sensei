{
  "nbformat": 4,
  "nbformat_minor": 0,
  "metadata": {
    "colab": {
      "provenance": [],
      "authorship_tag": "ABX9TyOsFLCfnOY0KaNRIeNCkIAk",
      "include_colab_link": true
    },
    "kernelspec": {
      "name": "python3",
      "display_name": "Python 3"
    },
    "language_info": {
      "name": "python"
    }
  },
  "cells": [
    {
      "cell_type": "markdown",
      "metadata": {
        "id": "view-in-github",
        "colab_type": "text"
      },
      "source": [
        "<a href=\"https://colab.research.google.com/github/x1Sensei/x1Sensei/blob/main/practiceIA.ipynb\" target=\"_parent\"><img src=\"https://colab.research.google.com/assets/colab-badge.svg\" alt=\"Open In Colab\"/></a>"
      ]
    },
    {
      "cell_type": "code",
      "execution_count": null,
      "metadata": {
        "colab": {
          "base_uri": "https://localhost:8080/"
        },
        "id": "4iOIbZ6P0U_Z",
        "outputId": "da4309e1-f723-4873-fdd1-27a3dd1196fc"
      },
      "outputs": [
        {
          "output_type": "stream",
          "name": "stdout",
          "text": [
            "Python 3.10.12\n"
          ]
        }
      ],
      "source": [
        "!python --version"
      ]
    },
    {
      "cell_type": "markdown",
      "source": [
        "tiposDeDatosBasicos"
      ],
      "metadata": {
        "id": "cQ18S9XV0qns"
      }
    },
    {
      "cell_type": "code",
      "source": [
        "sample1=10\n",
        "sample2=2.2\n",
        "sample3=\"Jimmy\"\n",
        "\n",
        "print(type(sample1))\n",
        "print(type (sample2))\n",
        "print(type (sample3))\n",
        "\n",
        "print(sample1+sample2)\n",
        "print(sample1+sample2)\n",
        "print(sample1**2)\n",
        "\n",
        "s1=True\n",
        "s2=False\n",
        "\n",
        "#print(s1 and s2)\n",
        "#print(s1 or s2)\n",
        "#print(not s1)\n",
        "#print(len(sample3))\n",
        "#print(sample3.upper())\n",
        "#print(sample3.lower())\n",
        "#print(sample3.capitalize())\n",
        "\n"
      ],
      "metadata": {
        "id": "YEeZyoPl0zDW",
        "colab": {
          "base_uri": "https://localhost:8080/"
        },
        "outputId": "e99a64a9-dd38-4d85-9c57-15c44e2c91fd"
      },
      "execution_count": null,
      "outputs": [
        {
          "output_type": "stream",
          "name": "stdout",
          "text": [
            "<class 'int'>\n",
            "<class 'float'>\n",
            "<class 'str'>\n",
            "12.2\n",
            "12.2\n",
            "100\n"
          ]
        }
      ]
    },
    {
      "cell_type": "markdown",
      "source": [
        "print=imprimir -----type= función que pertenece a una clase que a su vez es una librería de python tipo de dato, es método---- potencia *** ---datos booleanos true ---- operaciones logicas and y or"
      ],
      "metadata": {
        "id": "7--fCWn2ydiT"
      }
    },
    {
      "cell_type": "code",
      "source": [],
      "metadata": {
        "id": "we3PGWicgsJg"
      },
      "execution_count": null,
      "outputs": []
    },
    {
      "cell_type": "code",
      "source": [
        "someList= list()\n",
        "someList=[\"samsumg\", \"Huawei\", \"xiaomi\", \"iphone\", \"Nokia\", True, False]\n",
        "print(someList[6] )\n",
        "print(len(someList))\n",
        "\n",
        "#print(\"---------------------------------\")\n",
        "\n",
        "#for i in someList:\n",
        " # print(i)\n",
        "\n",
        "#someList.append(\"regla\")\n",
        "#print(\"--------------------------------------\")\n",
        "#for i in someList:\n",
        " # print(i)\n",
        "  #someList.pop(2)\n",
        "#print(\"************\")\n",
        "#for i in someList:\n",
        " # print(i)\n",
        "\n",
        "#print(\"---------\")\n",
        "#print(someList[1:4])\n",
        "\n",
        "print(someList[-1])\n",
        "print(someList[:3])\n",
        "\n"
      ],
      "metadata": {
        "id": "aULbLyEicr-D",
        "colab": {
          "base_uri": "https://localhost:8080/"
        },
        "outputId": "462f49e1-b45b-429e-baea-e87fc1e300f9"
      },
      "execution_count": null,
      "outputs": [
        {
          "output_type": "stream",
          "name": "stdout",
          "text": [
            "False\n",
            "7\n",
            "False\n",
            "['samsumg', 'Huawei', 'xiaomi']\n"
          ]
        }
      ]
    },
    {
      "cell_type": "code",
      "source": [
        "d={\"name\":\"Jimmy\", \"Edad\": 20, \"ciudad\": \"Santo Domingo\"}\n",
        "\n",
        "#print(d[\"name\"])\n",
        "#print(d[\"ciudad\"])\n",
        "\n",
        "#d[\"uni\"]=\"Uleam\"\n",
        "#print(d[\"uni\"])\n",
        "\n",
        "\n",
        "for key in d:\n",
        "  print(d[key])"
      ],
      "metadata": {
        "colab": {
          "base_uri": "https://localhost:8080/"
        },
        "id": "5wlqLs9bh6cd",
        "outputId": "54d0c934-6032-4f4a-ec01-36fea0c2e78b"
      },
      "execution_count": null,
      "outputs": [
        {
          "output_type": "stream",
          "name": "stdout",
          "text": [
            "Jimmy\n",
            "20\n",
            "Santo Domingo\n"
          ]
        }
      ]
    },
    {
      "cell_type": "code",
      "source": [
        "listTemp=list()\n",
        "listTemp.append(-1)\n",
        "listTemp.append(0)\n",
        "listTemp.append(1)\n",
        "print(listTemp)\n",
        "\n",
        "print(\"My list: {}\".format(listTemp))\n",
        "\n",
        "def positiveNegative(number):\n",
        "  if number<0:\n",
        "    print(\"Negative\")\n",
        "  elif number>0:\n",
        "    print(\"Positive\")\n",
        "  else:\n",
        "    print(\"Zero\")\n",
        "\n",
        "\n",
        "pass\n",
        "\n",
        "for item in listTemp:\n",
        "  positiveNegative(item)\n",
        "\n",
        "\n",
        "#number=listTemp[1]\n",
        "#print(\"which: \" ,number)\n",
        "#positiveNegative(number)"
      ],
      "metadata": {
        "colab": {
          "base_uri": "https://localhost:8080/"
        },
        "id": "_EJCc3XH8F6f",
        "outputId": "2caa9c1d-f2f8-41fb-ea2d-46da9c9e16c8"
      },
      "execution_count": 3,
      "outputs": [
        {
          "output_type": "stream",
          "name": "stdout",
          "text": [
            "[-1, 0, 1]\n",
            "which:  0\n",
            "Zero\n"
          ]
        }
      ]
    }
  ]
}