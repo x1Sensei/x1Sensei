{
  "nbformat": 4,
  "nbformat_minor": 0,
  "metadata": {
    "colab": {
      "provenance": [],
      "authorship_tag": "ABX9TyP8QYSqROBsasgo9RK/glD5",
      "include_colab_link": true
    },
    "kernelspec": {
      "name": "python3",
      "display_name": "Python 3"
    },
    "language_info": {
      "name": "python"
    }
  },
  "cells": [
    {
      "cell_type": "markdown",
      "metadata": {
        "id": "view-in-github",
        "colab_type": "text"
      },
      "source": [
        "<a href=\"https://colab.research.google.com/github/x1Sensei/x1Sensei/blob/main/practiceIA.ipynb\" target=\"_parent\"><img src=\"https://colab.research.google.com/assets/colab-badge.svg\" alt=\"Open In Colab\"/></a>"
      ]
    },
    {
      "cell_type": "code",
      "execution_count": null,
      "metadata": {
        "colab": {
          "base_uri": "https://localhost:8080/"
        },
        "id": "4iOIbZ6P0U_Z",
        "outputId": "da4309e1-f723-4873-fdd1-27a3dd1196fc"
      },
      "outputs": [
        {
          "output_type": "stream",
          "name": "stdout",
          "text": [
            "Python 3.10.12\n"
          ]
        }
      ],
      "source": [
        "!python --version"
      ]
    },
    {
      "cell_type": "markdown",
      "source": [
        "tiposDeDatosBasicos"
      ],
      "metadata": {
        "id": "cQ18S9XV0qns"
      }
    },
    {
      "cell_type": "code",
      "source": [
        "sample1=10\n",
        "sample2=2.2\n",
        "sample3=\"Jimmy\"\n",
        "\n",
        "print(type(sample1))\n",
        "print(type (sample2))\n",
        "print(type (sample3))\n",
        "\n",
        "print(sample1+sample2)\n",
        "print(sample1+sample2)\n",
        "print(sample1**2)\n",
        "\n",
        "s1=True\n",
        "s2=False\n",
        "\n",
        "#print(s1 and s2)\n",
        "#print(s1 or s2)\n",
        "#print(not s1)\n",
        "#print(len(sample3))\n",
        "#print(sample3.upper())\n",
        "#print(sample3.lower())\n",
        "#print(sample3.capitalize())\n",
        "\n"
      ],
      "metadata": {
        "id": "YEeZyoPl0zDW",
        "colab": {
          "base_uri": "https://localhost:8080/"
        },
        "outputId": "e99a64a9-dd38-4d85-9c57-15c44e2c91fd"
      },
      "execution_count": null,
      "outputs": [
        {
          "output_type": "stream",
          "name": "stdout",
          "text": [
            "<class 'int'>\n",
            "<class 'float'>\n",
            "<class 'str'>\n",
            "12.2\n",
            "12.2\n",
            "100\n"
          ]
        }
      ]
    },
    {
      "cell_type": "markdown",
      "source": [
        "print=imprimir -----type= función que pertenece a una clase que a su vez es una librería de python tipo de dato, es método---- potencia *** ---datos booleanos true ---- operaciones logicas and y or"
      ],
      "metadata": {
        "id": "7--fCWn2ydiT"
      }
    },
    {
      "cell_type": "code",
      "source": [],
      "metadata": {
        "id": "we3PGWicgsJg"
      },
      "execution_count": null,
      "outputs": []
    },
    {
      "cell_type": "code",
      "source": [
        "someList= list()\n",
        "someList=[\"samsumg\", \"Huawei\", \"xiaomi\", \"iphone\", \"Nokia\", True, False]\n",
        "print(someList[6] )\n",
        "print(len(someList))\n",
        "\n",
        "#print(\"---------------------------------\")\n",
        "\n",
        "#for i in someList:\n",
        " # print(i)\n",
        "\n",
        "#someList.append(\"regla\")\n",
        "#print(\"--------------------------------------\")\n",
        "#for i in someList:\n",
        " # print(i)\n",
        "  #someList.pop(2)\n",
        "#print(\"************\")\n",
        "#for i in someList:\n",
        " # print(i)\n",
        "\n",
        "#print(\"---------\")\n",
        "#print(someList[1:4])\n",
        "\n",
        "print(someList[-1])\n",
        "print(someList[:3])\n",
        "\n"
      ],
      "metadata": {
        "id": "aULbLyEicr-D",
        "colab": {
          "base_uri": "https://localhost:8080/"
        },
        "outputId": "462f49e1-b45b-429e-baea-e87fc1e300f9"
      },
      "execution_count": null,
      "outputs": [
        {
          "output_type": "stream",
          "name": "stdout",
          "text": [
            "False\n",
            "7\n",
            "False\n",
            "['samsumg', 'Huawei', 'xiaomi']\n"
          ]
        }
      ]
    },
    {
      "cell_type": "code",
      "source": [
        "d={\"name\":\"Jimmy\", \"Edad\": 20, \"ciudad\": \"Santo Domingo\"}\n",
        "\n",
        "#print(d[\"name\"])\n",
        "#print(d[\"ciudad\"])\n",
        "\n",
        "#d[\"uni\"]=\"Uleam\"\n",
        "#print(d[\"uni\"])\n",
        "\n",
        "\n",
        "for key in d:\n",
        "  print(d[key])"
      ],
      "metadata": {
        "colab": {
          "base_uri": "https://localhost:8080/"
        },
        "id": "5wlqLs9bh6cd",
        "outputId": "54d0c934-6032-4f4a-ec01-36fea0c2e78b"
      },
      "execution_count": null,
      "outputs": [
        {
          "output_type": "stream",
          "name": "stdout",
          "text": [
            "Jimmy\n",
            "20\n",
            "Santo Domingo\n"
          ]
        }
      ]
    },
    {
      "cell_type": "code",
      "source": [
        "listTemp=list()\n",
        "listTemp.append(-1)\n",
        "listTemp.append(0)\n",
        "listTemp.append(1)\n",
        "print(listTemp)\n",
        "\n",
        "print(\"My list: {}\".format(listTemp))\n",
        "\n",
        "def positiveNegative(number):\n",
        "  if number<0:\n",
        "    print(\"Negative\")\n",
        "  elif number>0:\n",
        "    print(\"Positive\")\n",
        "  else:\n",
        "    print(\"Zero\")\n",
        "\n",
        "\n",
        "pass\n",
        "\n",
        "for item in listTemp:\n",
        "  positiveNegative(item)\n",
        "\n",
        "\n",
        "#number=listTemp[1]\n",
        "#print(\"which: \" ,number)\n",
        "#positiveNegative(number)"
      ],
      "metadata": {
        "colab": {
          "base_uri": "https://localhost:8080/"
        },
        "id": "_EJCc3XH8F6f",
        "outputId": "2caa9c1d-f2f8-41fb-ea2d-46da9c9e16c8"
      },
      "execution_count": null,
      "outputs": [
        {
          "output_type": "stream",
          "name": "stdout",
          "text": [
            "[-1, 0, 1]\n",
            "which:  0\n",
            "Zero\n"
          ]
        }
      ]
    },
    {
      "cell_type": "code",
      "source": [
        "class persons():\n",
        "  def __init__ (self, name, age):\n",
        "    self.name=name\n",
        "    self.age=age\n",
        "\n",
        "\n",
        "  def message(self):\n",
        "    print(\"hello, {}\".format(self.name))\n",
        "    print(\"Your age is, {}\".format(self.age))\n",
        "\n",
        "person1=persons(\"Jorge\", 12)\n",
        "person2=persons(\"Bryan\", 15)\n",
        "person3=persons(\"Maria\", 16)\n",
        "person4=persons(\"Lucas\", 18)\n",
        "\n",
        "\n",
        "person1.message()\n",
        "\n",
        "\n"
      ],
      "metadata": {
        "colab": {
          "base_uri": "https://localhost:8080/"
        },
        "id": "3L7DysFsFVGs",
        "outputId": "46a00557-d0f1-4fa4-836d-aa7dad76ab02"
      },
      "execution_count": 2,
      "outputs": [
        {
          "output_type": "stream",
          "name": "stdout",
          "text": [
            "hello, Jorge\n",
            "Your age is, 12\n"
          ]
        }
      ]
    },
    {
      "cell_type": "code",
      "source": [
        "import numpy as jimmy\n",
        "\n",
        "a=jimmy.array([1,2,3])\n",
        "print(type(a))\n",
        "print(a.shape)\n",
        "print(a[0], a[1], a[2])\n",
        "a[0]=5\n",
        "print(a)\n",
        "\n",
        "print(\"*********************\")\n",
        "b=jimmy.array([[1,2,3],[1,3,5]])\n",
        "print(type(b))\n",
        "print(b.shape)\n",
        "print(b)"
      ],
      "metadata": {
        "colab": {
          "base_uri": "https://localhost:8080/"
        },
        "id": "Ylwct3FRd4Si",
        "outputId": "47616509-523d-4941-cf5d-a33b1a65019c"
      },
      "execution_count": 4,
      "outputs": [
        {
          "output_type": "stream",
          "name": "stdout",
          "text": [
            "<class 'numpy.ndarray'>\n",
            "(3,)\n",
            "1 2 3\n",
            "[5 2 3]\n",
            "*********************\n",
            "<class 'numpy.ndarray'>\n",
            "(2, 3)\n",
            "[[1 2 3]\n",
            " [1 3 5]]\n"
          ]
        }
      ]
    },
    {
      "cell_type": "code",
      "source": [
        "import numpy as Ale\n",
        "a=Ale.array([1,2,3])\n",
        "print(a)\n",
        "print(a.shape)\n",
        "print(type(a))\n",
        "\n",
        "\n",
        "\n",
        "import numpy as np\n",
        "\n",
        "b=np.array([[1,2,3],[4,5,6]])\n",
        "print(b.shape)\n",
        "print(b)\n",
        "print(\"number 5 : \" ,b[1,1])\n",
        "\n",
        "print(\"----------\")\n",
        "c=np.zeros((3,4), dtype=float)\n",
        "print(c)\n",
        "# numpy.zeros => crea una matriz con ceros(0)\n",
        "\n",
        "c=np.ones((3,4), dtype=float)\n",
        "print(\"----------\")\n",
        "print(c)\n",
        "# numpy.ones => crea una matriz con unos(1)\n",
        "\n",
        "print(\"----------\")\n",
        "c=np.eye(5)\n",
        "\n",
        "print(c)\n",
        "# numpy.eye => crea una matriz identidad\n"
      ],
      "metadata": {
        "id": "ULNjKrTigPMZ"
      },
      "execution_count": null,
      "outputs": []
    },
    {
      "cell_type": "code",
      "source": [
        "d=10*np.random.randn(4,4)\n",
        "print(d)"
      ],
      "metadata": {
        "colab": {
          "base_uri": "https://localhost:8080/"
        },
        "id": "aWDkK_ewlJdG",
        "outputId": "8e9ce9e4-51bb-49c3-ebb2-2b114cc3efbc"
      },
      "execution_count": 12,
      "outputs": [
        {
          "output_type": "stream",
          "name": "stdout",
          "text": [
            "[[ -8.15167978  -6.51762446   9.29422109  -1.95651787]\n",
            " [ -1.37875537  15.75620123  -8.89455913   4.06269494]\n",
            " [ -3.09891414  20.96886193   0.89938211  10.85973297]\n",
            " [-10.92626039  13.72816283   5.92216678 -10.54426022]]\n"
          ]
        }
      ]
    },
    {
      "cell_type": "code",
      "source": [
        "print(d[2,2])\n",
        "tmp=np.array(d)\n",
        "tmp[2,2]=150\n",
        "print(tmp[2,2])\n"
      ],
      "metadata": {
        "colab": {
          "base_uri": "https://localhost:8080/"
        },
        "id": "vPiNP5m7lh1G",
        "outputId": "42f15a17-e89d-4db5-f51c-863c7a17076d"
      },
      "execution_count": 14,
      "outputs": [
        {
          "output_type": "stream",
          "name": "stdout",
          "text": [
            "0.8993821109233744\n",
            "150.0\n"
          ]
        }
      ]
    },
    {
      "cell_type": "code",
      "source": [
        "d=10*np.random.randn(5,5)\n",
        "print(d)"
      ],
      "metadata": {
        "colab": {
          "base_uri": "https://localhost:8080/"
        },
        "id": "ee5yjlAwmdWF",
        "outputId": "5bfde4e4-b698-40a3-b24f-5aece1e00f42"
      },
      "execution_count": 15,
      "outputs": [
        {
          "output_type": "stream",
          "name": "stdout",
          "text": [
            "[[  1.79971445  10.22886534   3.18243283  14.86450497  -3.63623663]\n",
            " [  7.13201417 -14.51742925  -5.26646618   4.39923178 -22.44997716]\n",
            " [-11.72596815   6.27841775   0.67383823   7.43249675  -1.24718932]\n",
            " [ -0.81463002   9.81940136  -5.6518585    7.48561069  -5.20273193]\n",
            " [  4.26725319  18.31646449  -9.47988047   0.36440315  16.08465865]]\n"
          ]
        }
      ]
    },
    {
      "cell_type": "code",
      "source": [
        "tmp=np.array(d[1:4,1:4])\n",
        "print(tmp)\n",
        "print(tmp.shape)"
      ],
      "metadata": {
        "colab": {
          "base_uri": "https://localhost:8080/"
        },
        "id": "kDpIQp8Cn0YG",
        "outputId": "aead07a2-049e-42d4-f1e1-c5687112a6ce"
      },
      "execution_count": 17,
      "outputs": [
        {
          "output_type": "stream",
          "name": "stdout",
          "text": [
            "[[-14.51742925  -5.26646618   4.39923178]\n",
            " [  6.27841775   0.67383823   7.43249675]\n",
            " [  9.81940136  -5.6518585    7.48561069]]\n",
            "(3, 3)\n"
          ]
        }
      ]
    },
    {
      "cell_type": "code",
      "source": [
        "tmp=np.array(d[:,1:4])\n",
        "print(tmp)\n",
        "print(tmp.shape)"
      ],
      "metadata": {
        "colab": {
          "base_uri": "https://localhost:8080/"
        },
        "id": "U9W9PV0jox-s",
        "outputId": "2ae6d151-4f8c-4b7c-df42-d8f2c6944ec2"
      },
      "execution_count": 18,
      "outputs": [
        {
          "output_type": "stream",
          "name": "stdout",
          "text": [
            "[[ 10.22886534   3.18243283  14.86450497]\n",
            " [-14.51742925  -5.26646618   4.39923178]\n",
            " [  6.27841775   0.67383823   7.43249675]\n",
            " [  9.81940136  -5.6518585    7.48561069]\n",
            " [ 18.31646449  -9.47988047   0.36440315]]\n",
            "(5, 3)\n"
          ]
        }
      ]
    },
    {
      "cell_type": "code",
      "source": [
        "mask=d>10.0\n",
        "print(d.shape)\n",
        "print(mask)\n",
        "print(type(mask))\n",
        "\n",
        "tmp=d[mask]\n",
        "print(\"Values: {}\".format(tmp))\n",
        "print(type(tmp))\n",
        "print(tmp.shape)\n",
        "\n",
        "print(tmp[1])"
      ],
      "metadata": {
        "id": "Tq-ERCdzrNQN"
      },
      "execution_count": null,
      "outputs": []
    },
    {
      "cell_type": "code",
      "source": [
        "a=10*np.random.randn(3,3)\n",
        "b=10*np.random.randn(3,3)\n",
        "print(a)\n",
        "print(\"------------------------------------------\")\n",
        "print(\"------------------------------------------\")\n",
        "print(b)\n"
      ],
      "metadata": {
        "colab": {
          "base_uri": "https://localhost:8080/"
        },
        "id": "jQ9_6r9HuO-C",
        "outputId": "1b8ad908-0199-4e91-98b8-0fe62de8e1ec"
      },
      "execution_count": 31,
      "outputs": [
        {
          "output_type": "stream",
          "name": "stdout",
          "text": [
            "[[  6.34656958  12.41517316   3.37915167]\n",
            " [-19.44352075 -24.11308524   7.27739716]\n",
            " [  1.73892267  -3.23972787  10.89831346]]\n",
            "------------------------------------------\n",
            "------------------------------------------\n",
            "[[  7.8819034   -4.01275956 -21.69584736]\n",
            " [ 19.69204943 -10.98614977  -2.31307294]\n",
            " [  8.95878555  26.41982039  -3.18607626]]\n"
          ]
        }
      ]
    },
    {
      "cell_type": "code",
      "source": [
        "print(a+b)"
      ],
      "metadata": {
        "colab": {
          "base_uri": "https://localhost:8080/"
        },
        "id": "6ll0To6Yun6N",
        "outputId": "cbcb49f0-818d-4593-a4a9-56f7fd789618"
      },
      "execution_count": 32,
      "outputs": [
        {
          "output_type": "stream",
          "name": "stdout",
          "text": [
            "[[ 14.22847298   8.4024136  -18.31669569]\n",
            " [  0.24852868 -35.09923501   4.96432422]\n",
            " [ 10.69770822  23.18009253   7.71223719]]\n"
          ]
        }
      ]
    },
    {
      "cell_type": "code",
      "source": [
        "print(a-b)"
      ],
      "metadata": {
        "colab": {
          "base_uri": "https://localhost:8080/"
        },
        "id": "CB3mFcV7uxCz",
        "outputId": "2e2f45e3-1f2c-4488-f252-24eca4f41cf1"
      },
      "execution_count": 33,
      "outputs": [
        {
          "output_type": "stream",
          "name": "stdout",
          "text": [
            "[[ -1.53533382  16.42793272  25.07499903]\n",
            " [-39.13557018 -13.12693547   9.5904701 ]\n",
            " [ -7.21986288 -29.65954826  14.08438972]]\n"
          ]
        }
      ]
    },
    {
      "cell_type": "code",
      "source": [
        "print(a*b)"
      ],
      "metadata": {
        "colab": {
          "base_uri": "https://localhost:8080/"
        },
        "id": "naQuNauRu3LZ",
        "outputId": "2245f86d-fcc6-4c4a-c2bb-0417455fd89d"
      },
      "execution_count": 34,
      "outputs": [
        {
          "output_type": "stream",
          "name": "stdout",
          "text": [
            "[[  50.02304832  -49.81910476  -73.31355892]\n",
            " [-382.88277162  264.90996592  -16.83315044]\n",
            " [  15.57863532  -85.59302832  -34.72285781]]\n"
          ]
        }
      ]
    },
    {
      "cell_type": "code",
      "source": [
        "print(np.add(a,b))"
      ],
      "metadata": {
        "colab": {
          "base_uri": "https://localhost:8080/"
        },
        "id": "s9_scEWRvLYB",
        "outputId": "8271680e-70f7-452c-9b0f-a3727a3d67d7"
      },
      "execution_count": 36,
      "outputs": [
        {
          "output_type": "stream",
          "name": "stdout",
          "text": [
            "[[ 14.22847298   8.4024136  -18.31669569]\n",
            " [  0.24852868 -35.09923501   4.96432422]\n",
            " [ 10.69770822  23.18009253   7.71223719]]\n"
          ]
        }
      ]
    },
    {
      "cell_type": "code",
      "source": [
        "c=np.array([[2,1],[3,3]])\n",
        "print(c.shape)\n",
        "\n",
        "print(c)\n",
        "\n",
        "print(\"-------\")\n",
        "\n",
        "print(np.square(c))  #elevar al cuadrado\n",
        "print(\"------------\")\n",
        "print(np.power(c,3)) #elevar al cubo"
      ],
      "metadata": {
        "colab": {
          "base_uri": "https://localhost:8080/"
        },
        "id": "uxv5n7Kyvx66",
        "outputId": "52750e67-1dde-44f8-ed5a-090921598ec9"
      },
      "execution_count": 48,
      "outputs": [
        {
          "output_type": "stream",
          "name": "stdout",
          "text": [
            "(2, 2)\n",
            "[[2 1]\n",
            " [3 3]]\n",
            "-------\n",
            "[[4 1]\n",
            " [9 9]]\n",
            "------------\n",
            "[[ 8  1]\n",
            " [27 27]]\n"
          ]
        }
      ]
    },
    {
      "cell_type": "code",
      "source": [
        "c=10*np.random.randn(3,4)\n",
        "print(c)"
      ],
      "metadata": {
        "colab": {
          "base_uri": "https://localhost:8080/"
        },
        "id": "judAs8N6xxOw",
        "outputId": "2c26cb40-bb2c-404c-fb9a-80a132598146"
      },
      "execution_count": 51,
      "outputs": [
        {
          "output_type": "stream",
          "name": "stdout",
          "text": [
            "[[ -5.69623615  -1.39856075 -11.49381303  -2.84192903]\n",
            " [ 11.7380982    1.33545327  14.785994     0.08854601]\n",
            " [ -2.46891049  -8.29868999   0.73159613 -16.36372792]]\n"
          ]
        }
      ]
    },
    {
      "cell_type": "code",
      "source": [
        "c=10*np.random.randn(3,3)\n",
        "c=10*np.random.randn(3,3)\n",
        "print(c)\n",
        "print()\n",
        "print(b)"
      ],
      "metadata": {
        "colab": {
          "base_uri": "https://localhost:8080/"
        },
        "id": "Nwr4KqTjzP8P",
        "outputId": "c6afdc66-f469-4c61-c595-89a29c5cdecb"
      },
      "execution_count": 55,
      "outputs": [
        {
          "output_type": "stream",
          "name": "stdout",
          "text": [
            "[[ -8.37368986  -7.35626017  -1.16519913]\n",
            " [-19.83006507 -10.0367619   -9.67509712]\n",
            " [ -2.95948944   1.18023031   2.25041611]]\n",
            "\n",
            "[[  7.8819034   -4.01275956 -21.69584736]\n",
            " [ 19.69204943 -10.98614977  -2.31307294]\n",
            " [  8.95878555  26.41982039  -3.18607626]]\n"
          ]
        }
      ]
    },
    {
      "cell_type": "code",
      "source": [
        "y1=np.vstack((c,b))\n",
        "print(y1)\n",
        "y1=np.hstack((c,b))\n",
        "print(y1)"
      ],
      "metadata": {
        "id": "-mcPA6Vfz1d6"
      },
      "execution_count": null,
      "outputs": []
    }
  ]
}